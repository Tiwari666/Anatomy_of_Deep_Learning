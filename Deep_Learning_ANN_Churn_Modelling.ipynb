{
  "nbformat": 4,
  "nbformat_minor": 0,
  "metadata": {
    "colab": {
      "provenance": [],
      "gpuType": "T4",
      "include_colab_link": true
    },
    "kernelspec": {
      "name": "python3",
      "display_name": "Python 3"
    },
    "language_info": {
      "name": "python"
    },
    "accelerator": "GPU"
  },
  "cells": [
    {
      "cell_type": "markdown",
      "metadata": {
        "id": "view-in-github",
        "colab_type": "text"
      },
      "source": [
        "<a href=\"https://colab.research.google.com/github/Tiwari666/Anatomy_of_Deep_Learning/blob/main/Deep_Learning_ANN_Churn_Modelling.ipynb\" target=\"_parent\"><img src=\"https://colab.research.google.com/assets/colab-badge.svg\" alt=\"Open In Colab\"/></a>"
      ]
    },
    {
      "cell_type": "markdown",
      "source": [
        "#**Import Libraries**"
      ],
      "metadata": {
        "id": "VydT0SIyhQ-y"
      }
    },
    {
      "cell_type": "code",
      "execution_count": 2,
      "metadata": {
        "id": "jtZNY23UgMsI"
      },
      "outputs": [],
      "source": [
        "import pandas as pd\n",
        "import numpy as np\n",
        "from sklearn.preprocessing import OneHotEncoder, StandardScaler\n",
        "from sklearn.compose import ColumnTransformer\n",
        "from sklearn.model_selection import train_test_split\n",
        "import tensorflow as tf\n",
        "from tensorflow.keras.models import Sequential\n",
        "from tensorflow.keras.layers import Dense, Dropout, BatchNormalization\n",
        "from tensorflow.keras.callbacks import EarlyStopping\n",
        "from tensorflow.keras.regularizers import l2"
      ]
    },
    {
      "cell_type": "markdown",
      "source": [
        "# **Step 1: Import Dataset**"
      ],
      "metadata": {
        "id": "OIQHk5kohV6i"
      }
    },
    {
      "cell_type": "code",
      "source": [
        "path = '/content/Churn_Modelling.csv'\n",
        "df = pd.read_csv(path)"
      ],
      "metadata": {
        "id": "tpczzWEchZHS"
      },
      "execution_count": 3,
      "outputs": []
    },
    {
      "cell_type": "code",
      "source": [
        "df"
      ],
      "metadata": {
        "colab": {
          "base_uri": "https://localhost:8080/",
          "height": 424
        },
        "id": "HzDqeV3ThmcL",
        "outputId": "c9acd0c3-4f99-493a-9632-78bd72fba345"
      },
      "execution_count": 4,
      "outputs": [
        {
          "output_type": "execute_result",
          "data": {
            "text/plain": [
              "      RowNumber  CustomerId    Surname  CreditScore Geography  Gender  Age  \\\n",
              "0             1    15634602   Hargrave          619    France  Female   42   \n",
              "1             2    15647311       Hill          608     Spain  Female   41   \n",
              "2             3    15619304       Onio          502    France  Female   42   \n",
              "3             4    15701354       Boni          699    France  Female   39   \n",
              "4             5    15737888   Mitchell          850     Spain  Female   43   \n",
              "...         ...         ...        ...          ...       ...     ...  ...   \n",
              "9995       9996    15606229   Obijiaku          771    France    Male   39   \n",
              "9996       9997    15569892  Johnstone          516    France    Male   35   \n",
              "9997       9998    15584532        Liu          709    France  Female   36   \n",
              "9998       9999    15682355  Sabbatini          772   Germany    Male   42   \n",
              "9999      10000    15628319     Walker          792    France  Female   28   \n",
              "\n",
              "      Tenure    Balance  NumOfProducts  HasCrCard  IsActiveMember  \\\n",
              "0          2       0.00              1          1               1   \n",
              "1          1   83807.86              1          0               1   \n",
              "2          8  159660.80              3          1               0   \n",
              "3          1       0.00              2          0               0   \n",
              "4          2  125510.82              1          1               1   \n",
              "...      ...        ...            ...        ...             ...   \n",
              "9995       5       0.00              2          1               0   \n",
              "9996      10   57369.61              1          1               1   \n",
              "9997       7       0.00              1          0               1   \n",
              "9998       3   75075.31              2          1               0   \n",
              "9999       4  130142.79              1          1               0   \n",
              "\n",
              "      EstimatedSalary  Exited  \n",
              "0           101348.88       1  \n",
              "1           112542.58       0  \n",
              "2           113931.57       1  \n",
              "3            93826.63       0  \n",
              "4            79084.10       0  \n",
              "...               ...     ...  \n",
              "9995         96270.64       0  \n",
              "9996        101699.77       0  \n",
              "9997         42085.58       1  \n",
              "9998         92888.52       1  \n",
              "9999         38190.78       0  \n",
              "\n",
              "[10000 rows x 14 columns]"
            ],
            "text/html": [
              "\n",
              "  <div id=\"df-a756bc72-e7db-493d-902f-e888f07cb9bc\" class=\"colab-df-container\">\n",
              "    <div>\n",
              "<style scoped>\n",
              "    .dataframe tbody tr th:only-of-type {\n",
              "        vertical-align: middle;\n",
              "    }\n",
              "\n",
              "    .dataframe tbody tr th {\n",
              "        vertical-align: top;\n",
              "    }\n",
              "\n",
              "    .dataframe thead th {\n",
              "        text-align: right;\n",
              "    }\n",
              "</style>\n",
              "<table border=\"1\" class=\"dataframe\">\n",
              "  <thead>\n",
              "    <tr style=\"text-align: right;\">\n",
              "      <th></th>\n",
              "      <th>RowNumber</th>\n",
              "      <th>CustomerId</th>\n",
              "      <th>Surname</th>\n",
              "      <th>CreditScore</th>\n",
              "      <th>Geography</th>\n",
              "      <th>Gender</th>\n",
              "      <th>Age</th>\n",
              "      <th>Tenure</th>\n",
              "      <th>Balance</th>\n",
              "      <th>NumOfProducts</th>\n",
              "      <th>HasCrCard</th>\n",
              "      <th>IsActiveMember</th>\n",
              "      <th>EstimatedSalary</th>\n",
              "      <th>Exited</th>\n",
              "    </tr>\n",
              "  </thead>\n",
              "  <tbody>\n",
              "    <tr>\n",
              "      <th>0</th>\n",
              "      <td>1</td>\n",
              "      <td>15634602</td>\n",
              "      <td>Hargrave</td>\n",
              "      <td>619</td>\n",
              "      <td>France</td>\n",
              "      <td>Female</td>\n",
              "      <td>42</td>\n",
              "      <td>2</td>\n",
              "      <td>0.00</td>\n",
              "      <td>1</td>\n",
              "      <td>1</td>\n",
              "      <td>1</td>\n",
              "      <td>101348.88</td>\n",
              "      <td>1</td>\n",
              "    </tr>\n",
              "    <tr>\n",
              "      <th>1</th>\n",
              "      <td>2</td>\n",
              "      <td>15647311</td>\n",
              "      <td>Hill</td>\n",
              "      <td>608</td>\n",
              "      <td>Spain</td>\n",
              "      <td>Female</td>\n",
              "      <td>41</td>\n",
              "      <td>1</td>\n",
              "      <td>83807.86</td>\n",
              "      <td>1</td>\n",
              "      <td>0</td>\n",
              "      <td>1</td>\n",
              "      <td>112542.58</td>\n",
              "      <td>0</td>\n",
              "    </tr>\n",
              "    <tr>\n",
              "      <th>2</th>\n",
              "      <td>3</td>\n",
              "      <td>15619304</td>\n",
              "      <td>Onio</td>\n",
              "      <td>502</td>\n",
              "      <td>France</td>\n",
              "      <td>Female</td>\n",
              "      <td>42</td>\n",
              "      <td>8</td>\n",
              "      <td>159660.80</td>\n",
              "      <td>3</td>\n",
              "      <td>1</td>\n",
              "      <td>0</td>\n",
              "      <td>113931.57</td>\n",
              "      <td>1</td>\n",
              "    </tr>\n",
              "    <tr>\n",
              "      <th>3</th>\n",
              "      <td>4</td>\n",
              "      <td>15701354</td>\n",
              "      <td>Boni</td>\n",
              "      <td>699</td>\n",
              "      <td>France</td>\n",
              "      <td>Female</td>\n",
              "      <td>39</td>\n",
              "      <td>1</td>\n",
              "      <td>0.00</td>\n",
              "      <td>2</td>\n",
              "      <td>0</td>\n",
              "      <td>0</td>\n",
              "      <td>93826.63</td>\n",
              "      <td>0</td>\n",
              "    </tr>\n",
              "    <tr>\n",
              "      <th>4</th>\n",
              "      <td>5</td>\n",
              "      <td>15737888</td>\n",
              "      <td>Mitchell</td>\n",
              "      <td>850</td>\n",
              "      <td>Spain</td>\n",
              "      <td>Female</td>\n",
              "      <td>43</td>\n",
              "      <td>2</td>\n",
              "      <td>125510.82</td>\n",
              "      <td>1</td>\n",
              "      <td>1</td>\n",
              "      <td>1</td>\n",
              "      <td>79084.10</td>\n",
              "      <td>0</td>\n",
              "    </tr>\n",
              "    <tr>\n",
              "      <th>...</th>\n",
              "      <td>...</td>\n",
              "      <td>...</td>\n",
              "      <td>...</td>\n",
              "      <td>...</td>\n",
              "      <td>...</td>\n",
              "      <td>...</td>\n",
              "      <td>...</td>\n",
              "      <td>...</td>\n",
              "      <td>...</td>\n",
              "      <td>...</td>\n",
              "      <td>...</td>\n",
              "      <td>...</td>\n",
              "      <td>...</td>\n",
              "      <td>...</td>\n",
              "    </tr>\n",
              "    <tr>\n",
              "      <th>9995</th>\n",
              "      <td>9996</td>\n",
              "      <td>15606229</td>\n",
              "      <td>Obijiaku</td>\n",
              "      <td>771</td>\n",
              "      <td>France</td>\n",
              "      <td>Male</td>\n",
              "      <td>39</td>\n",
              "      <td>5</td>\n",
              "      <td>0.00</td>\n",
              "      <td>2</td>\n",
              "      <td>1</td>\n",
              "      <td>0</td>\n",
              "      <td>96270.64</td>\n",
              "      <td>0</td>\n",
              "    </tr>\n",
              "    <tr>\n",
              "      <th>9996</th>\n",
              "      <td>9997</td>\n",
              "      <td>15569892</td>\n",
              "      <td>Johnstone</td>\n",
              "      <td>516</td>\n",
              "      <td>France</td>\n",
              "      <td>Male</td>\n",
              "      <td>35</td>\n",
              "      <td>10</td>\n",
              "      <td>57369.61</td>\n",
              "      <td>1</td>\n",
              "      <td>1</td>\n",
              "      <td>1</td>\n",
              "      <td>101699.77</td>\n",
              "      <td>0</td>\n",
              "    </tr>\n",
              "    <tr>\n",
              "      <th>9997</th>\n",
              "      <td>9998</td>\n",
              "      <td>15584532</td>\n",
              "      <td>Liu</td>\n",
              "      <td>709</td>\n",
              "      <td>France</td>\n",
              "      <td>Female</td>\n",
              "      <td>36</td>\n",
              "      <td>7</td>\n",
              "      <td>0.00</td>\n",
              "      <td>1</td>\n",
              "      <td>0</td>\n",
              "      <td>1</td>\n",
              "      <td>42085.58</td>\n",
              "      <td>1</td>\n",
              "    </tr>\n",
              "    <tr>\n",
              "      <th>9998</th>\n",
              "      <td>9999</td>\n",
              "      <td>15682355</td>\n",
              "      <td>Sabbatini</td>\n",
              "      <td>772</td>\n",
              "      <td>Germany</td>\n",
              "      <td>Male</td>\n",
              "      <td>42</td>\n",
              "      <td>3</td>\n",
              "      <td>75075.31</td>\n",
              "      <td>2</td>\n",
              "      <td>1</td>\n",
              "      <td>0</td>\n",
              "      <td>92888.52</td>\n",
              "      <td>1</td>\n",
              "    </tr>\n",
              "    <tr>\n",
              "      <th>9999</th>\n",
              "      <td>10000</td>\n",
              "      <td>15628319</td>\n",
              "      <td>Walker</td>\n",
              "      <td>792</td>\n",
              "      <td>France</td>\n",
              "      <td>Female</td>\n",
              "      <td>28</td>\n",
              "      <td>4</td>\n",
              "      <td>130142.79</td>\n",
              "      <td>1</td>\n",
              "      <td>1</td>\n",
              "      <td>0</td>\n",
              "      <td>38190.78</td>\n",
              "      <td>0</td>\n",
              "    </tr>\n",
              "  </tbody>\n",
              "</table>\n",
              "<p>10000 rows × 14 columns</p>\n",
              "</div>\n",
              "    <div class=\"colab-df-buttons\">\n",
              "\n",
              "  <div class=\"colab-df-container\">\n",
              "    <button class=\"colab-df-convert\" onclick=\"convertToInteractive('df-a756bc72-e7db-493d-902f-e888f07cb9bc')\"\n",
              "            title=\"Convert this dataframe to an interactive table.\"\n",
              "            style=\"display:none;\">\n",
              "\n",
              "  <svg xmlns=\"http://www.w3.org/2000/svg\" height=\"24px\" viewBox=\"0 -960 960 960\">\n",
              "    <path d=\"M120-120v-720h720v720H120Zm60-500h600v-160H180v160Zm220 220h160v-160H400v160Zm0 220h160v-160H400v160ZM180-400h160v-160H180v160Zm440 0h160v-160H620v160ZM180-180h160v-160H180v160Zm440 0h160v-160H620v160Z\"/>\n",
              "  </svg>\n",
              "    </button>\n",
              "\n",
              "  <style>\n",
              "    .colab-df-container {\n",
              "      display:flex;\n",
              "      gap: 12px;\n",
              "    }\n",
              "\n",
              "    .colab-df-convert {\n",
              "      background-color: #E8F0FE;\n",
              "      border: none;\n",
              "      border-radius: 50%;\n",
              "      cursor: pointer;\n",
              "      display: none;\n",
              "      fill: #1967D2;\n",
              "      height: 32px;\n",
              "      padding: 0 0 0 0;\n",
              "      width: 32px;\n",
              "    }\n",
              "\n",
              "    .colab-df-convert:hover {\n",
              "      background-color: #E2EBFA;\n",
              "      box-shadow: 0px 1px 2px rgba(60, 64, 67, 0.3), 0px 1px 3px 1px rgba(60, 64, 67, 0.15);\n",
              "      fill: #174EA6;\n",
              "    }\n",
              "\n",
              "    .colab-df-buttons div {\n",
              "      margin-bottom: 4px;\n",
              "    }\n",
              "\n",
              "    [theme=dark] .colab-df-convert {\n",
              "      background-color: #3B4455;\n",
              "      fill: #D2E3FC;\n",
              "    }\n",
              "\n",
              "    [theme=dark] .colab-df-convert:hover {\n",
              "      background-color: #434B5C;\n",
              "      box-shadow: 0px 1px 3px 1px rgba(0, 0, 0, 0.15);\n",
              "      filter: drop-shadow(0px 1px 2px rgba(0, 0, 0, 0.3));\n",
              "      fill: #FFFFFF;\n",
              "    }\n",
              "  </style>\n",
              "\n",
              "    <script>\n",
              "      const buttonEl =\n",
              "        document.querySelector('#df-a756bc72-e7db-493d-902f-e888f07cb9bc button.colab-df-convert');\n",
              "      buttonEl.style.display =\n",
              "        google.colab.kernel.accessAllowed ? 'block' : 'none';\n",
              "\n",
              "      async function convertToInteractive(key) {\n",
              "        const element = document.querySelector('#df-a756bc72-e7db-493d-902f-e888f07cb9bc');\n",
              "        const dataTable =\n",
              "          await google.colab.kernel.invokeFunction('convertToInteractive',\n",
              "                                                    [key], {});\n",
              "        if (!dataTable) return;\n",
              "\n",
              "        const docLinkHtml = 'Like what you see? Visit the ' +\n",
              "          '<a target=\"_blank\" href=https://colab.research.google.com/notebooks/data_table.ipynb>data table notebook</a>'\n",
              "          + ' to learn more about interactive tables.';\n",
              "        element.innerHTML = '';\n",
              "        dataTable['output_type'] = 'display_data';\n",
              "        await google.colab.output.renderOutput(dataTable, element);\n",
              "        const docLink = document.createElement('div');\n",
              "        docLink.innerHTML = docLinkHtml;\n",
              "        element.appendChild(docLink);\n",
              "      }\n",
              "    </script>\n",
              "  </div>\n",
              "\n",
              "\n",
              "<div id=\"df-9a0a0e95-7d3a-45d1-abbc-f1f6148fe1d9\">\n",
              "  <button class=\"colab-df-quickchart\" onclick=\"quickchart('df-9a0a0e95-7d3a-45d1-abbc-f1f6148fe1d9')\"\n",
              "            title=\"Suggest charts\"\n",
              "            style=\"display:none;\">\n",
              "\n",
              "<svg xmlns=\"http://www.w3.org/2000/svg\" height=\"24px\"viewBox=\"0 0 24 24\"\n",
              "     width=\"24px\">\n",
              "    <g>\n",
              "        <path d=\"M19 3H5c-1.1 0-2 .9-2 2v14c0 1.1.9 2 2 2h14c1.1 0 2-.9 2-2V5c0-1.1-.9-2-2-2zM9 17H7v-7h2v7zm4 0h-2V7h2v10zm4 0h-2v-4h2v4z\"/>\n",
              "    </g>\n",
              "</svg>\n",
              "  </button>\n",
              "\n",
              "<style>\n",
              "  .colab-df-quickchart {\n",
              "      --bg-color: #E8F0FE;\n",
              "      --fill-color: #1967D2;\n",
              "      --hover-bg-color: #E2EBFA;\n",
              "      --hover-fill-color: #174EA6;\n",
              "      --disabled-fill-color: #AAA;\n",
              "      --disabled-bg-color: #DDD;\n",
              "  }\n",
              "\n",
              "  [theme=dark] .colab-df-quickchart {\n",
              "      --bg-color: #3B4455;\n",
              "      --fill-color: #D2E3FC;\n",
              "      --hover-bg-color: #434B5C;\n",
              "      --hover-fill-color: #FFFFFF;\n",
              "      --disabled-bg-color: #3B4455;\n",
              "      --disabled-fill-color: #666;\n",
              "  }\n",
              "\n",
              "  .colab-df-quickchart {\n",
              "    background-color: var(--bg-color);\n",
              "    border: none;\n",
              "    border-radius: 50%;\n",
              "    cursor: pointer;\n",
              "    display: none;\n",
              "    fill: var(--fill-color);\n",
              "    height: 32px;\n",
              "    padding: 0;\n",
              "    width: 32px;\n",
              "  }\n",
              "\n",
              "  .colab-df-quickchart:hover {\n",
              "    background-color: var(--hover-bg-color);\n",
              "    box-shadow: 0 1px 2px rgba(60, 64, 67, 0.3), 0 1px 3px 1px rgba(60, 64, 67, 0.15);\n",
              "    fill: var(--button-hover-fill-color);\n",
              "  }\n",
              "\n",
              "  .colab-df-quickchart-complete:disabled,\n",
              "  .colab-df-quickchart-complete:disabled:hover {\n",
              "    background-color: var(--disabled-bg-color);\n",
              "    fill: var(--disabled-fill-color);\n",
              "    box-shadow: none;\n",
              "  }\n",
              "\n",
              "  .colab-df-spinner {\n",
              "    border: 2px solid var(--fill-color);\n",
              "    border-color: transparent;\n",
              "    border-bottom-color: var(--fill-color);\n",
              "    animation:\n",
              "      spin 1s steps(1) infinite;\n",
              "  }\n",
              "\n",
              "  @keyframes spin {\n",
              "    0% {\n",
              "      border-color: transparent;\n",
              "      border-bottom-color: var(--fill-color);\n",
              "      border-left-color: var(--fill-color);\n",
              "    }\n",
              "    20% {\n",
              "      border-color: transparent;\n",
              "      border-left-color: var(--fill-color);\n",
              "      border-top-color: var(--fill-color);\n",
              "    }\n",
              "    30% {\n",
              "      border-color: transparent;\n",
              "      border-left-color: var(--fill-color);\n",
              "      border-top-color: var(--fill-color);\n",
              "      border-right-color: var(--fill-color);\n",
              "    }\n",
              "    40% {\n",
              "      border-color: transparent;\n",
              "      border-right-color: var(--fill-color);\n",
              "      border-top-color: var(--fill-color);\n",
              "    }\n",
              "    60% {\n",
              "      border-color: transparent;\n",
              "      border-right-color: var(--fill-color);\n",
              "    }\n",
              "    80% {\n",
              "      border-color: transparent;\n",
              "      border-right-color: var(--fill-color);\n",
              "      border-bottom-color: var(--fill-color);\n",
              "    }\n",
              "    90% {\n",
              "      border-color: transparent;\n",
              "      border-bottom-color: var(--fill-color);\n",
              "    }\n",
              "  }\n",
              "</style>\n",
              "\n",
              "  <script>\n",
              "    async function quickchart(key) {\n",
              "      const quickchartButtonEl =\n",
              "        document.querySelector('#' + key + ' button');\n",
              "      quickchartButtonEl.disabled = true;  // To prevent multiple clicks.\n",
              "      quickchartButtonEl.classList.add('colab-df-spinner');\n",
              "      try {\n",
              "        const charts = await google.colab.kernel.invokeFunction(\n",
              "            'suggestCharts', [key], {});\n",
              "      } catch (error) {\n",
              "        console.error('Error during call to suggestCharts:', error);\n",
              "      }\n",
              "      quickchartButtonEl.classList.remove('colab-df-spinner');\n",
              "      quickchartButtonEl.classList.add('colab-df-quickchart-complete');\n",
              "    }\n",
              "    (() => {\n",
              "      let quickchartButtonEl =\n",
              "        document.querySelector('#df-9a0a0e95-7d3a-45d1-abbc-f1f6148fe1d9 button');\n",
              "      quickchartButtonEl.style.display =\n",
              "        google.colab.kernel.accessAllowed ? 'block' : 'none';\n",
              "    })();\n",
              "  </script>\n",
              "</div>\n",
              "\n",
              "  <div id=\"id_9bf2d51e-7143-46ac-85bf-05d54e6aa149\">\n",
              "    <style>\n",
              "      .colab-df-generate {\n",
              "        background-color: #E8F0FE;\n",
              "        border: none;\n",
              "        border-radius: 50%;\n",
              "        cursor: pointer;\n",
              "        display: none;\n",
              "        fill: #1967D2;\n",
              "        height: 32px;\n",
              "        padding: 0 0 0 0;\n",
              "        width: 32px;\n",
              "      }\n",
              "\n",
              "      .colab-df-generate:hover {\n",
              "        background-color: #E2EBFA;\n",
              "        box-shadow: 0px 1px 2px rgba(60, 64, 67, 0.3), 0px 1px 3px 1px rgba(60, 64, 67, 0.15);\n",
              "        fill: #174EA6;\n",
              "      }\n",
              "\n",
              "      [theme=dark] .colab-df-generate {\n",
              "        background-color: #3B4455;\n",
              "        fill: #D2E3FC;\n",
              "      }\n",
              "\n",
              "      [theme=dark] .colab-df-generate:hover {\n",
              "        background-color: #434B5C;\n",
              "        box-shadow: 0px 1px 3px 1px rgba(0, 0, 0, 0.15);\n",
              "        filter: drop-shadow(0px 1px 2px rgba(0, 0, 0, 0.3));\n",
              "        fill: #FFFFFF;\n",
              "      }\n",
              "    </style>\n",
              "    <button class=\"colab-df-generate\" onclick=\"generateWithVariable('df')\"\n",
              "            title=\"Generate code using this dataframe.\"\n",
              "            style=\"display:none;\">\n",
              "\n",
              "  <svg xmlns=\"http://www.w3.org/2000/svg\" height=\"24px\"viewBox=\"0 0 24 24\"\n",
              "       width=\"24px\">\n",
              "    <path d=\"M7,19H8.4L18.45,9,17,7.55,7,17.6ZM5,21V16.75L18.45,3.32a2,2,0,0,1,2.83,0l1.4,1.43a1.91,1.91,0,0,1,.58,1.4,1.91,1.91,0,0,1-.58,1.4L9.25,21ZM18.45,9,17,7.55Zm-12,3A5.31,5.31,0,0,0,4.9,8.1,5.31,5.31,0,0,0,1,6.5,5.31,5.31,0,0,0,4.9,4.9,5.31,5.31,0,0,0,6.5,1,5.31,5.31,0,0,0,8.1,4.9,5.31,5.31,0,0,0,12,6.5,5.46,5.46,0,0,0,6.5,12Z\"/>\n",
              "  </svg>\n",
              "    </button>\n",
              "    <script>\n",
              "      (() => {\n",
              "      const buttonEl =\n",
              "        document.querySelector('#id_9bf2d51e-7143-46ac-85bf-05d54e6aa149 button.colab-df-generate');\n",
              "      buttonEl.style.display =\n",
              "        google.colab.kernel.accessAllowed ? 'block' : 'none';\n",
              "\n",
              "      buttonEl.onclick = () => {\n",
              "        google.colab.notebook.generateWithVariable('df');\n",
              "      }\n",
              "      })();\n",
              "    </script>\n",
              "  </div>\n",
              "\n",
              "    </div>\n",
              "  </div>\n"
            ],
            "application/vnd.google.colaboratory.intrinsic+json": {
              "type": "dataframe",
              "variable_name": "df",
              "summary": "{\n  \"name\": \"df\",\n  \"rows\": 10000,\n  \"fields\": [\n    {\n      \"column\": \"RowNumber\",\n      \"properties\": {\n        \"dtype\": \"number\",\n        \"std\": 2886,\n        \"min\": 1,\n        \"max\": 10000,\n        \"num_unique_values\": 10000,\n        \"samples\": [\n          6253,\n          4685,\n          1732\n        ],\n        \"semantic_type\": \"\",\n        \"description\": \"\"\n      }\n    },\n    {\n      \"column\": \"CustomerId\",\n      \"properties\": {\n        \"dtype\": \"number\",\n        \"std\": 71936,\n        \"min\": 15565701,\n        \"max\": 15815690,\n        \"num_unique_values\": 10000,\n        \"samples\": [\n          15687492,\n          15736963,\n          15721730\n        ],\n        \"semantic_type\": \"\",\n        \"description\": \"\"\n      }\n    },\n    {\n      \"column\": \"Surname\",\n      \"properties\": {\n        \"dtype\": \"category\",\n        \"num_unique_values\": 2932,\n        \"samples\": [\n          \"McGuirk\",\n          \"Torkelson\",\n          \"Rapuluchukwu\"\n        ],\n        \"semantic_type\": \"\",\n        \"description\": \"\"\n      }\n    },\n    {\n      \"column\": \"CreditScore\",\n      \"properties\": {\n        \"dtype\": \"number\",\n        \"std\": 96,\n        \"min\": 350,\n        \"max\": 850,\n        \"num_unique_values\": 460,\n        \"samples\": [\n          754,\n          533,\n          744\n        ],\n        \"semantic_type\": \"\",\n        \"description\": \"\"\n      }\n    },\n    {\n      \"column\": \"Geography\",\n      \"properties\": {\n        \"dtype\": \"category\",\n        \"num_unique_values\": 3,\n        \"samples\": [\n          \"France\",\n          \"Spain\",\n          \"Germany\"\n        ],\n        \"semantic_type\": \"\",\n        \"description\": \"\"\n      }\n    },\n    {\n      \"column\": \"Gender\",\n      \"properties\": {\n        \"dtype\": \"category\",\n        \"num_unique_values\": 2,\n        \"samples\": [\n          \"Male\",\n          \"Female\"\n        ],\n        \"semantic_type\": \"\",\n        \"description\": \"\"\n      }\n    },\n    {\n      \"column\": \"Age\",\n      \"properties\": {\n        \"dtype\": \"number\",\n        \"std\": 10,\n        \"min\": 18,\n        \"max\": 92,\n        \"num_unique_values\": 70,\n        \"samples\": [\n          61,\n          42\n        ],\n        \"semantic_type\": \"\",\n        \"description\": \"\"\n      }\n    },\n    {\n      \"column\": \"Tenure\",\n      \"properties\": {\n        \"dtype\": \"number\",\n        \"std\": 2,\n        \"min\": 0,\n        \"max\": 10,\n        \"num_unique_values\": 11,\n        \"samples\": [\n          6,\n          2\n        ],\n        \"semantic_type\": \"\",\n        \"description\": \"\"\n      }\n    },\n    {\n      \"column\": \"Balance\",\n      \"properties\": {\n        \"dtype\": \"number\",\n        \"std\": 62397.405202385955,\n        \"min\": 0.0,\n        \"max\": 250898.09,\n        \"num_unique_values\": 6382,\n        \"samples\": [\n          117707.18,\n          133050.97\n        ],\n        \"semantic_type\": \"\",\n        \"description\": \"\"\n      }\n    },\n    {\n      \"column\": \"NumOfProducts\",\n      \"properties\": {\n        \"dtype\": \"number\",\n        \"std\": 0,\n        \"min\": 1,\n        \"max\": 4,\n        \"num_unique_values\": 4,\n        \"samples\": [\n          3,\n          4\n        ],\n        \"semantic_type\": \"\",\n        \"description\": \"\"\n      }\n    },\n    {\n      \"column\": \"HasCrCard\",\n      \"properties\": {\n        \"dtype\": \"number\",\n        \"std\": 0,\n        \"min\": 0,\n        \"max\": 1,\n        \"num_unique_values\": 2,\n        \"samples\": [\n          0,\n          1\n        ],\n        \"semantic_type\": \"\",\n        \"description\": \"\"\n      }\n    },\n    {\n      \"column\": \"IsActiveMember\",\n      \"properties\": {\n        \"dtype\": \"number\",\n        \"std\": 0,\n        \"min\": 0,\n        \"max\": 1,\n        \"num_unique_values\": 2,\n        \"samples\": [\n          0,\n          1\n        ],\n        \"semantic_type\": \"\",\n        \"description\": \"\"\n      }\n    },\n    {\n      \"column\": \"EstimatedSalary\",\n      \"properties\": {\n        \"dtype\": \"number\",\n        \"std\": 57510.49281769816,\n        \"min\": 11.58,\n        \"max\": 199992.48,\n        \"num_unique_values\": 9999,\n        \"samples\": [\n          100809.99,\n          95273.73\n        ],\n        \"semantic_type\": \"\",\n        \"description\": \"\"\n      }\n    },\n    {\n      \"column\": \"Exited\",\n      \"properties\": {\n        \"dtype\": \"number\",\n        \"std\": 0,\n        \"min\": 0,\n        \"max\": 1,\n        \"num_unique_values\": 2,\n        \"samples\": [\n          0,\n          1\n        ],\n        \"semantic_type\": \"\",\n        \"description\": \"\"\n      }\n    }\n  ]\n}"
            }
          },
          "metadata": {},
          "execution_count": 4
        }
      ]
    },
    {
      "cell_type": "markdown",
      "source": [
        "![image.png](data:image/png;base64,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)"
      ],
      "metadata": {
        "id": "RT58TBchnEGY"
      }
    },
    {
      "cell_type": "code",
      "source": [
        "df.head(3)"
      ],
      "metadata": {
        "colab": {
          "base_uri": "https://localhost:8080/",
          "height": 143
        },
        "id": "qsH4TVDzhp8C",
        "outputId": "8d3d26ae-0cc1-4946-84ff-6ae15d637e97"
      },
      "execution_count": 5,
      "outputs": [
        {
          "output_type": "execute_result",
          "data": {
            "text/plain": [
              "   RowNumber  CustomerId   Surname  CreditScore Geography  Gender  Age  \\\n",
              "0          1    15634602  Hargrave          619    France  Female   42   \n",
              "1          2    15647311      Hill          608     Spain  Female   41   \n",
              "2          3    15619304      Onio          502    France  Female   42   \n",
              "\n",
              "   Tenure    Balance  NumOfProducts  HasCrCard  IsActiveMember  \\\n",
              "0       2       0.00              1          1               1   \n",
              "1       1   83807.86              1          0               1   \n",
              "2       8  159660.80              3          1               0   \n",
              "\n",
              "   EstimatedSalary  Exited  \n",
              "0        101348.88       1  \n",
              "1        112542.58       0  \n",
              "2        113931.57       1  "
            ],
            "text/html": [
              "\n",
              "  <div id=\"df-5b63444d-75f9-4c0c-88bd-8e9385391f6b\" class=\"colab-df-container\">\n",
              "    <div>\n",
              "<style scoped>\n",
              "    .dataframe tbody tr th:only-of-type {\n",
              "        vertical-align: middle;\n",
              "    }\n",
              "\n",
              "    .dataframe tbody tr th {\n",
              "        vertical-align: top;\n",
              "    }\n",
              "\n",
              "    .dataframe thead th {\n",
              "        text-align: right;\n",
              "    }\n",
              "</style>\n",
              "<table border=\"1\" class=\"dataframe\">\n",
              "  <thead>\n",
              "    <tr style=\"text-align: right;\">\n",
              "      <th></th>\n",
              "      <th>RowNumber</th>\n",
              "      <th>CustomerId</th>\n",
              "      <th>Surname</th>\n",
              "      <th>CreditScore</th>\n",
              "      <th>Geography</th>\n",
              "      <th>Gender</th>\n",
              "      <th>Age</th>\n",
              "      <th>Tenure</th>\n",
              "      <th>Balance</th>\n",
              "      <th>NumOfProducts</th>\n",
              "      <th>HasCrCard</th>\n",
              "      <th>IsActiveMember</th>\n",
              "      <th>EstimatedSalary</th>\n",
              "      <th>Exited</th>\n",
              "    </tr>\n",
              "  </thead>\n",
              "  <tbody>\n",
              "    <tr>\n",
              "      <th>0</th>\n",
              "      <td>1</td>\n",
              "      <td>15634602</td>\n",
              "      <td>Hargrave</td>\n",
              "      <td>619</td>\n",
              "      <td>France</td>\n",
              "      <td>Female</td>\n",
              "      <td>42</td>\n",
              "      <td>2</td>\n",
              "      <td>0.00</td>\n",
              "      <td>1</td>\n",
              "      <td>1</td>\n",
              "      <td>1</td>\n",
              "      <td>101348.88</td>\n",
              "      <td>1</td>\n",
              "    </tr>\n",
              "    <tr>\n",
              "      <th>1</th>\n",
              "      <td>2</td>\n",
              "      <td>15647311</td>\n",
              "      <td>Hill</td>\n",
              "      <td>608</td>\n",
              "      <td>Spain</td>\n",
              "      <td>Female</td>\n",
              "      <td>41</td>\n",
              "      <td>1</td>\n",
              "      <td>83807.86</td>\n",
              "      <td>1</td>\n",
              "      <td>0</td>\n",
              "      <td>1</td>\n",
              "      <td>112542.58</td>\n",
              "      <td>0</td>\n",
              "    </tr>\n",
              "    <tr>\n",
              "      <th>2</th>\n",
              "      <td>3</td>\n",
              "      <td>15619304</td>\n",
              "      <td>Onio</td>\n",
              "      <td>502</td>\n",
              "      <td>France</td>\n",
              "      <td>Female</td>\n",
              "      <td>42</td>\n",
              "      <td>8</td>\n",
              "      <td>159660.80</td>\n",
              "      <td>3</td>\n",
              "      <td>1</td>\n",
              "      <td>0</td>\n",
              "      <td>113931.57</td>\n",
              "      <td>1</td>\n",
              "    </tr>\n",
              "  </tbody>\n",
              "</table>\n",
              "</div>\n",
              "    <div class=\"colab-df-buttons\">\n",
              "\n",
              "  <div class=\"colab-df-container\">\n",
              "    <button class=\"colab-df-convert\" onclick=\"convertToInteractive('df-5b63444d-75f9-4c0c-88bd-8e9385391f6b')\"\n",
              "            title=\"Convert this dataframe to an interactive table.\"\n",
              "            style=\"display:none;\">\n",
              "\n",
              "  <svg xmlns=\"http://www.w3.org/2000/svg\" height=\"24px\" viewBox=\"0 -960 960 960\">\n",
              "    <path d=\"M120-120v-720h720v720H120Zm60-500h600v-160H180v160Zm220 220h160v-160H400v160Zm0 220h160v-160H400v160ZM180-400h160v-160H180v160Zm440 0h160v-160H620v160ZM180-180h160v-160H180v160Zm440 0h160v-160H620v160Z\"/>\n",
              "  </svg>\n",
              "    </button>\n",
              "\n",
              "  <style>\n",
              "    .colab-df-container {\n",
              "      display:flex;\n",
              "      gap: 12px;\n",
              "    }\n",
              "\n",
              "    .colab-df-convert {\n",
              "      background-color: #E8F0FE;\n",
              "      border: none;\n",
              "      border-radius: 50%;\n",
              "      cursor: pointer;\n",
              "      display: none;\n",
              "      fill: #1967D2;\n",
              "      height: 32px;\n",
              "      padding: 0 0 0 0;\n",
              "      width: 32px;\n",
              "    }\n",
              "\n",
              "    .colab-df-convert:hover {\n",
              "      background-color: #E2EBFA;\n",
              "      box-shadow: 0px 1px 2px rgba(60, 64, 67, 0.3), 0px 1px 3px 1px rgba(60, 64, 67, 0.15);\n",
              "      fill: #174EA6;\n",
              "    }\n",
              "\n",
              "    .colab-df-buttons div {\n",
              "      margin-bottom: 4px;\n",
              "    }\n",
              "\n",
              "    [theme=dark] .colab-df-convert {\n",
              "      background-color: #3B4455;\n",
              "      fill: #D2E3FC;\n",
              "    }\n",
              "\n",
              "    [theme=dark] .colab-df-convert:hover {\n",
              "      background-color: #434B5C;\n",
              "      box-shadow: 0px 1px 3px 1px rgba(0, 0, 0, 0.15);\n",
              "      filter: drop-shadow(0px 1px 2px rgba(0, 0, 0, 0.3));\n",
              "      fill: #FFFFFF;\n",
              "    }\n",
              "  </style>\n",
              "\n",
              "    <script>\n",
              "      const buttonEl =\n",
              "        document.querySelector('#df-5b63444d-75f9-4c0c-88bd-8e9385391f6b button.colab-df-convert');\n",
              "      buttonEl.style.display =\n",
              "        google.colab.kernel.accessAllowed ? 'block' : 'none';\n",
              "\n",
              "      async function convertToInteractive(key) {\n",
              "        const element = document.querySelector('#df-5b63444d-75f9-4c0c-88bd-8e9385391f6b');\n",
              "        const dataTable =\n",
              "          await google.colab.kernel.invokeFunction('convertToInteractive',\n",
              "                                                    [key], {});\n",
              "        if (!dataTable) return;\n",
              "\n",
              "        const docLinkHtml = 'Like what you see? Visit the ' +\n",
              "          '<a target=\"_blank\" href=https://colab.research.google.com/notebooks/data_table.ipynb>data table notebook</a>'\n",
              "          + ' to learn more about interactive tables.';\n",
              "        element.innerHTML = '';\n",
              "        dataTable['output_type'] = 'display_data';\n",
              "        await google.colab.output.renderOutput(dataTable, element);\n",
              "        const docLink = document.createElement('div');\n",
              "        docLink.innerHTML = docLinkHtml;\n",
              "        element.appendChild(docLink);\n",
              "      }\n",
              "    </script>\n",
              "  </div>\n",
              "\n",
              "\n",
              "<div id=\"df-177211ae-f48a-489f-a824-97c931c40677\">\n",
              "  <button class=\"colab-df-quickchart\" onclick=\"quickchart('df-177211ae-f48a-489f-a824-97c931c40677')\"\n",
              "            title=\"Suggest charts\"\n",
              "            style=\"display:none;\">\n",
              "\n",
              "<svg xmlns=\"http://www.w3.org/2000/svg\" height=\"24px\"viewBox=\"0 0 24 24\"\n",
              "     width=\"24px\">\n",
              "    <g>\n",
              "        <path d=\"M19 3H5c-1.1 0-2 .9-2 2v14c0 1.1.9 2 2 2h14c1.1 0 2-.9 2-2V5c0-1.1-.9-2-2-2zM9 17H7v-7h2v7zm4 0h-2V7h2v10zm4 0h-2v-4h2v4z\"/>\n",
              "    </g>\n",
              "</svg>\n",
              "  </button>\n",
              "\n",
              "<style>\n",
              "  .colab-df-quickchart {\n",
              "      --bg-color: #E8F0FE;\n",
              "      --fill-color: #1967D2;\n",
              "      --hover-bg-color: #E2EBFA;\n",
              "      --hover-fill-color: #174EA6;\n",
              "      --disabled-fill-color: #AAA;\n",
              "      --disabled-bg-color: #DDD;\n",
              "  }\n",
              "\n",
              "  [theme=dark] .colab-df-quickchart {\n",
              "      --bg-color: #3B4455;\n",
              "      --fill-color: #D2E3FC;\n",
              "      --hover-bg-color: #434B5C;\n",
              "      --hover-fill-color: #FFFFFF;\n",
              "      --disabled-bg-color: #3B4455;\n",
              "      --disabled-fill-color: #666;\n",
              "  }\n",
              "\n",
              "  .colab-df-quickchart {\n",
              "    background-color: var(--bg-color);\n",
              "    border: none;\n",
              "    border-radius: 50%;\n",
              "    cursor: pointer;\n",
              "    display: none;\n",
              "    fill: var(--fill-color);\n",
              "    height: 32px;\n",
              "    padding: 0;\n",
              "    width: 32px;\n",
              "  }\n",
              "\n",
              "  .colab-df-quickchart:hover {\n",
              "    background-color: var(--hover-bg-color);\n",
              "    box-shadow: 0 1px 2px rgba(60, 64, 67, 0.3), 0 1px 3px 1px rgba(60, 64, 67, 0.15);\n",
              "    fill: var(--button-hover-fill-color);\n",
              "  }\n",
              "\n",
              "  .colab-df-quickchart-complete:disabled,\n",
              "  .colab-df-quickchart-complete:disabled:hover {\n",
              "    background-color: var(--disabled-bg-color);\n",
              "    fill: var(--disabled-fill-color);\n",
              "    box-shadow: none;\n",
              "  }\n",
              "\n",
              "  .colab-df-spinner {\n",
              "    border: 2px solid var(--fill-color);\n",
              "    border-color: transparent;\n",
              "    border-bottom-color: var(--fill-color);\n",
              "    animation:\n",
              "      spin 1s steps(1) infinite;\n",
              "  }\n",
              "\n",
              "  @keyframes spin {\n",
              "    0% {\n",
              "      border-color: transparent;\n",
              "      border-bottom-color: var(--fill-color);\n",
              "      border-left-color: var(--fill-color);\n",
              "    }\n",
              "    20% {\n",
              "      border-color: transparent;\n",
              "      border-left-color: var(--fill-color);\n",
              "      border-top-color: var(--fill-color);\n",
              "    }\n",
              "    30% {\n",
              "      border-color: transparent;\n",
              "      border-left-color: var(--fill-color);\n",
              "      border-top-color: var(--fill-color);\n",
              "      border-right-color: var(--fill-color);\n",
              "    }\n",
              "    40% {\n",
              "      border-color: transparent;\n",
              "      border-right-color: var(--fill-color);\n",
              "      border-top-color: var(--fill-color);\n",
              "    }\n",
              "    60% {\n",
              "      border-color: transparent;\n",
              "      border-right-color: var(--fill-color);\n",
              "    }\n",
              "    80% {\n",
              "      border-color: transparent;\n",
              "      border-right-color: var(--fill-color);\n",
              "      border-bottom-color: var(--fill-color);\n",
              "    }\n",
              "    90% {\n",
              "      border-color: transparent;\n",
              "      border-bottom-color: var(--fill-color);\n",
              "    }\n",
              "  }\n",
              "</style>\n",
              "\n",
              "  <script>\n",
              "    async function quickchart(key) {\n",
              "      const quickchartButtonEl =\n",
              "        document.querySelector('#' + key + ' button');\n",
              "      quickchartButtonEl.disabled = true;  // To prevent multiple clicks.\n",
              "      quickchartButtonEl.classList.add('colab-df-spinner');\n",
              "      try {\n",
              "        const charts = await google.colab.kernel.invokeFunction(\n",
              "            'suggestCharts', [key], {});\n",
              "      } catch (error) {\n",
              "        console.error('Error during call to suggestCharts:', error);\n",
              "      }\n",
              "      quickchartButtonEl.classList.remove('colab-df-spinner');\n",
              "      quickchartButtonEl.classList.add('colab-df-quickchart-complete');\n",
              "    }\n",
              "    (() => {\n",
              "      let quickchartButtonEl =\n",
              "        document.querySelector('#df-177211ae-f48a-489f-a824-97c931c40677 button');\n",
              "      quickchartButtonEl.style.display =\n",
              "        google.colab.kernel.accessAllowed ? 'block' : 'none';\n",
              "    })();\n",
              "  </script>\n",
              "</div>\n",
              "\n",
              "    </div>\n",
              "  </div>\n"
            ],
            "application/vnd.google.colaboratory.intrinsic+json": {
              "type": "dataframe",
              "variable_name": "df",
              "summary": "{\n  \"name\": \"df\",\n  \"rows\": 10000,\n  \"fields\": [\n    {\n      \"column\": \"RowNumber\",\n      \"properties\": {\n        \"dtype\": \"number\",\n        \"std\": 2886,\n        \"min\": 1,\n        \"max\": 10000,\n        \"num_unique_values\": 10000,\n        \"samples\": [\n          6253,\n          4685,\n          1732\n        ],\n        \"semantic_type\": \"\",\n        \"description\": \"\"\n      }\n    },\n    {\n      \"column\": \"CustomerId\",\n      \"properties\": {\n        \"dtype\": \"number\",\n        \"std\": 71936,\n        \"min\": 15565701,\n        \"max\": 15815690,\n        \"num_unique_values\": 10000,\n        \"samples\": [\n          15687492,\n          15736963,\n          15721730\n        ],\n        \"semantic_type\": \"\",\n        \"description\": \"\"\n      }\n    },\n    {\n      \"column\": \"Surname\",\n      \"properties\": {\n        \"dtype\": \"category\",\n        \"num_unique_values\": 2932,\n        \"samples\": [\n          \"McGuirk\",\n          \"Torkelson\",\n          \"Rapuluchukwu\"\n        ],\n        \"semantic_type\": \"\",\n        \"description\": \"\"\n      }\n    },\n    {\n      \"column\": \"CreditScore\",\n      \"properties\": {\n        \"dtype\": \"number\",\n        \"std\": 96,\n        \"min\": 350,\n        \"max\": 850,\n        \"num_unique_values\": 460,\n        \"samples\": [\n          754,\n          533,\n          744\n        ],\n        \"semantic_type\": \"\",\n        \"description\": \"\"\n      }\n    },\n    {\n      \"column\": \"Geography\",\n      \"properties\": {\n        \"dtype\": \"category\",\n        \"num_unique_values\": 3,\n        \"samples\": [\n          \"France\",\n          \"Spain\",\n          \"Germany\"\n        ],\n        \"semantic_type\": \"\",\n        \"description\": \"\"\n      }\n    },\n    {\n      \"column\": \"Gender\",\n      \"properties\": {\n        \"dtype\": \"category\",\n        \"num_unique_values\": 2,\n        \"samples\": [\n          \"Male\",\n          \"Female\"\n        ],\n        \"semantic_type\": \"\",\n        \"description\": \"\"\n      }\n    },\n    {\n      \"column\": \"Age\",\n      \"properties\": {\n        \"dtype\": \"number\",\n        \"std\": 10,\n        \"min\": 18,\n        \"max\": 92,\n        \"num_unique_values\": 70,\n        \"samples\": [\n          61,\n          42\n        ],\n        \"semantic_type\": \"\",\n        \"description\": \"\"\n      }\n    },\n    {\n      \"column\": \"Tenure\",\n      \"properties\": {\n        \"dtype\": \"number\",\n        \"std\": 2,\n        \"min\": 0,\n        \"max\": 10,\n        \"num_unique_values\": 11,\n        \"samples\": [\n          6,\n          2\n        ],\n        \"semantic_type\": \"\",\n        \"description\": \"\"\n      }\n    },\n    {\n      \"column\": \"Balance\",\n      \"properties\": {\n        \"dtype\": \"number\",\n        \"std\": 62397.405202385955,\n        \"min\": 0.0,\n        \"max\": 250898.09,\n        \"num_unique_values\": 6382,\n        \"samples\": [\n          117707.18,\n          133050.97\n        ],\n        \"semantic_type\": \"\",\n        \"description\": \"\"\n      }\n    },\n    {\n      \"column\": \"NumOfProducts\",\n      \"properties\": {\n        \"dtype\": \"number\",\n        \"std\": 0,\n        \"min\": 1,\n        \"max\": 4,\n        \"num_unique_values\": 4,\n        \"samples\": [\n          3,\n          4\n        ],\n        \"semantic_type\": \"\",\n        \"description\": \"\"\n      }\n    },\n    {\n      \"column\": \"HasCrCard\",\n      \"properties\": {\n        \"dtype\": \"number\",\n        \"std\": 0,\n        \"min\": 0,\n        \"max\": 1,\n        \"num_unique_values\": 2,\n        \"samples\": [\n          0,\n          1\n        ],\n        \"semantic_type\": \"\",\n        \"description\": \"\"\n      }\n    },\n    {\n      \"column\": \"IsActiveMember\",\n      \"properties\": {\n        \"dtype\": \"number\",\n        \"std\": 0,\n        \"min\": 0,\n        \"max\": 1,\n        \"num_unique_values\": 2,\n        \"samples\": [\n          0,\n          1\n        ],\n        \"semantic_type\": \"\",\n        \"description\": \"\"\n      }\n    },\n    {\n      \"column\": \"EstimatedSalary\",\n      \"properties\": {\n        \"dtype\": \"number\",\n        \"std\": 57510.49281769816,\n        \"min\": 11.58,\n        \"max\": 199992.48,\n        \"num_unique_values\": 9999,\n        \"samples\": [\n          100809.99,\n          95273.73\n        ],\n        \"semantic_type\": \"\",\n        \"description\": \"\"\n      }\n    },\n    {\n      \"column\": \"Exited\",\n      \"properties\": {\n        \"dtype\": \"number\",\n        \"std\": 0,\n        \"min\": 0,\n        \"max\": 1,\n        \"num_unique_values\": 2,\n        \"samples\": [\n          0,\n          1\n        ],\n        \"semantic_type\": \"\",\n        \"description\": \"\"\n      }\n    }\n  ]\n}"
            }
          },
          "metadata": {},
          "execution_count": 5
        }
      ]
    },
    {
      "cell_type": "code",
      "source": [
        "# Make a copy of the original DataFrame\n",
        "df_original = df.copy()"
      ],
      "metadata": {
        "id": "ljTSaN7DS1VS"
      },
      "execution_count": 6,
      "outputs": []
    },
    {
      "cell_type": "code",
      "source": [
        "# Drop unnecessary columns from the copy\n",
        "df = df_original.drop(columns=['RowNumber', 'CustomerId', 'Surname'])"
      ],
      "metadata": {
        "id": "xkN68O04S1Xp"
      },
      "execution_count": 7,
      "outputs": []
    },
    {
      "cell_type": "markdown",
      "source": [
        "# **Step 2: Data Prepreprocessing:**"
      ],
      "metadata": {
        "id": "4_5-5bfG1-s8"
      }
    },
    {
      "cell_type": "code",
      "source": [
        "# Define the features (X) and the target (y)\n",
        "X = df.iloc[:, :-1].values\n",
        "y = df.iloc[:, -1].values"
      ],
      "metadata": {
        "id": "dDAqmgl4rqim"
      },
      "execution_count": 8,
      "outputs": []
    },
    {
      "cell_type": "code",
      "source": [
        "X"
      ],
      "metadata": {
        "colab": {
          "base_uri": "https://localhost:8080/"
        },
        "id": "DlfmWfR3sAdc",
        "outputId": "f48f68c6-cd55-4b59-da96-d113e9a8d3ce"
      },
      "execution_count": 9,
      "outputs": [
        {
          "output_type": "execute_result",
          "data": {
            "text/plain": [
              "array([[619, 'France', 'Female', ..., 1, 1, 101348.88],\n",
              "       [608, 'Spain', 'Female', ..., 0, 1, 112542.58],\n",
              "       [502, 'France', 'Female', ..., 1, 0, 113931.57],\n",
              "       ...,\n",
              "       [709, 'France', 'Female', ..., 0, 1, 42085.58],\n",
              "       [772, 'Germany', 'Male', ..., 1, 0, 92888.52],\n",
              "       [792, 'France', 'Female', ..., 1, 0, 38190.78]], dtype=object)"
            ]
          },
          "metadata": {},
          "execution_count": 9
        }
      ]
    },
    {
      "cell_type": "markdown",
      "source": [
        "#**Label Encoding the \"Gender\" column**\n",
        "\n",
        "Label Encoding:\n",
        "\n",
        "Usage:\n",
        "\n",
        "Ordinal Data: When categorical data has an inherent order or ranking among its values (e.g., \"low\", \"medium\", \"high\").\n",
        "\n",
        "Binary Data: When dealing with binary categorical variables (e.g., \"yes\" or \"no\")."
      ],
      "metadata": {
        "id": "fRaa6f2bsY9O"
      }
    },
    {
      "cell_type": "code",
      "source": [
        "# Check the subcategories (unique values) in the gender column\n",
        "gender_subcategories = df['Gender'].unique()\n",
        "print(gender_subcategories)"
      ],
      "metadata": {
        "colab": {
          "base_uri": "https://localhost:8080/"
        },
        "id": "bvMNeBC_wYb8",
        "outputId": "b15e6059-bd78-406c-95cf-1242a18c2476"
      },
      "execution_count": 10,
      "outputs": [
        {
          "output_type": "stream",
          "name": "stdout",
          "text": [
            "['Female' 'Male']\n"
          ]
        }
      ]
    },
    {
      "cell_type": "markdown",
      "source": [
        "--------------------------------"
      ],
      "metadata": {
        "id": "fx4UpsQmEYeO"
      }
    },
    {
      "cell_type": "markdown",
      "source": [
        "#**OneHotEncoder on \"Geography\" column**\n",
        "\n",
        "One-Hot Encoding:\n",
        "\n",
        "Usage:\n",
        "\n",
        "Nominal Data: When the categorical values do not have any inherent order (e.g., country names, types of cars)."
      ],
      "metadata": {
        "id": "eyM4QNjBs8PX"
      }
    },
    {
      "cell_type": "markdown",
      "source": [
        "---ColumnTransformer is used to apply OneHotEncoder to both the Geography and Gender columns and StandardScaler to numerical columns such as CreditScore, Age, Tenure, Balance, NumOfProducts, and EstimatedSalary.\n",
        "\n",
        "--set remainder='passthrough' is used to keep the rest of the columns unchanged.\n",
        "\n",
        "--However, the above code snippet  only applies the OneHotEncoder to a single column (the second column, indexed as 1). It does not apply transformations to other categorical or numerical columns."
      ],
      "metadata": {
        "id": "ipW0Mlivx8SW"
      }
    },
    {
      "cell_type": "markdown",
      "source": [
        "--------------------------"
      ],
      "metadata": {
        "id": "aeR0rfrjEWB2"
      }
    },
    {
      "cell_type": "code",
      "source": [
        "# Define the ColumnTransformer to apply OneHotEncoder to Geography and Gender, and StandardScaler to numerical columns\n",
        "ct = ColumnTransformer(\n",
        "    transformers=[\n",
        "        ('geo_gender', OneHotEncoder(), [1, 2]),  # One-hot encode the Geography and Gender columns\n",
        "        ('num', StandardScaler(), [0, 3, 4, 5, 6, 7, 8, 9])  # Standardize numerical columns\n",
        "    ],\n",
        "    remainder='passthrough'  # Keep the rest of the columns unchanged\n",
        ")"
      ],
      "metadata": {
        "id": "97TX0fsGPNV5"
      },
      "execution_count": 11,
      "outputs": []
    },
    {
      "cell_type": "code",
      "source": [
        "# Fit and transform the training data\n",
        "X = np.array(ct.fit_transform(X))"
      ],
      "metadata": {
        "id": "Va1slbzPPh_5"
      },
      "execution_count": 12,
      "outputs": []
    },
    {
      "cell_type": "code",
      "source": [
        "X"
      ],
      "metadata": {
        "colab": {
          "base_uri": "https://localhost:8080/"
        },
        "id": "mA_3IMpstfUE",
        "outputId": "d42322b5-6d3b-4d3c-d287-ebd5326a0c39"
      },
      "execution_count": 302,
      "outputs": [
        {
          "output_type": "execute_result",
          "data": {
            "text/plain": [
              "array([[ 1.        ,  0.        ,  0.        , ...,  0.64609167,\n",
              "         0.97024255,  0.02188649],\n",
              "       [ 0.        ,  0.        ,  1.        , ..., -1.54776799,\n",
              "         0.97024255,  0.21653375],\n",
              "       [ 1.        ,  0.        ,  0.        , ...,  0.64609167,\n",
              "        -1.03067011,  0.2406869 ],\n",
              "       ...,\n",
              "       [ 1.        ,  0.        ,  0.        , ..., -1.54776799,\n",
              "         0.97024255, -1.00864308],\n",
              "       [ 0.        ,  1.        ,  0.        , ...,  0.64609167,\n",
              "        -1.03067011, -0.12523071],\n",
              "       [ 1.        ,  0.        ,  0.        , ...,  0.64609167,\n",
              "        -1.03067011, -1.07636976]])"
            ]
          },
          "metadata": {},
          "execution_count": 302
        }
      ]
    },
    {
      "cell_type": "markdown",
      "source": [
        "#**Splitting the dataset into the Training set and Test set**"
      ],
      "metadata": {
        "id": "05Ct7xbAtvPO"
      }
    },
    {
      "cell_type": "code",
      "source": [
        "# Split the data into training and testing sets\n",
        "X_train, X_test, y_train, y_test = train_test_split(X, y, test_size=0.2, random_state=42)"
      ],
      "metadata": {
        "id": "i7R-8gVItpEm"
      },
      "execution_count": 13,
      "outputs": []
    },
    {
      "cell_type": "markdown",
      "source": [
        "#**Artificial Neural Network**"
      ],
      "metadata": {
        "id": "W0ZInY9CuyOT"
      }
    },
    {
      "cell_type": "markdown",
      "source": [
        "# **Step 3: Building ANN Model**"
      ],
      "metadata": {
        "id": "AxvEFFKgu21j"
      }
    },
    {
      "cell_type": "markdown",
      "source": [
        "#**Initialization of ANN**"
      ],
      "metadata": {
        "id": "XSA5O8B6u8Vt"
      }
    },
    {
      "cell_type": "code",
      "source": [
        "# Initialize the ANN\n",
        "model = Sequential()"
      ],
      "metadata": {
        "id": "EpwkPlvwuw7b"
      },
      "execution_count": 14,
      "outputs": []
    },
    {
      "cell_type": "markdown",
      "source": [
        "#**Adding First Hidden Layer**\n",
        "\n",
        "--Successively, we keep on decreasing the number of neurons/nodes on each additional hidden layers (e.g., units = 6,6,1) and keep units = 1 always for the output layer.\n",
        "\n",
        "--Generally, the numbers are chosen in the multiple of 2s."
      ],
      "metadata": {
        "id": "C8v-ntnIvX2-"
      }
    },
    {
      "cell_type": "code",
      "source": [
        "model.add(Dense(units=6, activation='relu', input_dim=X_train.shape[1], kernel_regularizer=l2(0.01)))\n",
        "model.add(Dropout(0.5))\n",
        "model.add(BatchNormalization())"
      ],
      "metadata": {
        "id": "6iV20UYfvQXO"
      },
      "execution_count": 305,
      "outputs": []
    },
    {
      "cell_type": "markdown",
      "source": [
        "# **Adding Second Hidden Layer**"
      ],
      "metadata": {
        "id": "C2MX3ONJ3FX6"
      }
    },
    {
      "cell_type": "code",
      "source": [
        "model.add(Dense(units=6, activation='relu', kernel_regularizer=l2(0.01)))\n",
        "model.add(Dropout(0.5))\n",
        "model.add(BatchNormalization())"
      ],
      "metadata": {
        "id": "i-7CTphc3By9"
      },
      "execution_count": 15,
      "outputs": []
    },
    {
      "cell_type": "markdown",
      "source": [
        "# **Add output layer**"
      ],
      "metadata": {
        "id": "Za2DHi5tv9Hz"
      }
    },
    {
      "cell_type": "code",
      "source": [
        "# Add output layer\n",
        "model.add(Dense(units=1, activation='sigmoid'))"
      ],
      "metadata": {
        "id": "vgQE_WiQv8d0"
      },
      "execution_count": 16,
      "outputs": []
    },
    {
      "cell_type": "markdown",
      "source": [
        "# **Compile the ANN**\n",
        "\n",
        "\n",
        "Compilation Step:\n",
        "\n",
        "Configuration: Compiling sets up the necessary components (optimizer, loss function, models' metrics) that will guide the training process. This step configures the model and is a prerequisite for training.\n",
        "\n",
        "Efficiency: By defining these components beforehand, the framework can optimize the training process.\n",
        "\n",
        "Training Step:\n",
        "\n",
        "Learning: Training is where the actual learning happens. The model iterates over the training data, adjusting its weights to learn the patterns in the data.\n",
        "\n",
        "Validation: During training, you can also validate the model on a separate validation set to monitor its performance and avoid overfitting."
      ],
      "metadata": {
        "id": "VIRJGIxQ1tNE"
      }
    },
    {
      "cell_type": "code",
      "source": [
        "# Compile the ANN (set optimizer, loss function, and metrics)\n",
        "model.compile(optimizer='adam', loss='binary_crossentropy', metrics=['accuracy'])"
      ],
      "metadata": {
        "id": "Ih-mfb-hxJTq"
      },
      "execution_count": 17,
      "outputs": []
    },
    {
      "cell_type": "code",
      "source": [
        "# Early stopping callback\n",
        "early_stopping = EarlyStopping(monitor='val_loss', patience=5)"
      ],
      "metadata": {
        "id": "XIqus7bod78Z"
      },
      "execution_count": 18,
      "outputs": []
    },
    {
      "cell_type": "code",
      "source": [
        "# Train the ANN\n",
        "history = model.fit(X_train, y_train, epochs=50, batch_size=32, validation_split=0.2, callbacks=[early_stopping]) # ann = model"
      ],
      "metadata": {
        "colab": {
          "base_uri": "https://localhost:8080/"
        },
        "id": "O4H1hQ6qxNr1",
        "outputId": "98d09509-62c1-408d-ed0e-f413ece0252f"
      },
      "execution_count": 19,
      "outputs": [
        {
          "output_type": "stream",
          "name": "stdout",
          "text": [
            "Epoch 1/50\n",
            "200/200 [==============================] - 2s 4ms/step - loss: 0.8384 - accuracy: 0.5931 - val_loss: 0.6520 - val_accuracy: 0.7188\n",
            "Epoch 2/50\n",
            "200/200 [==============================] - 1s 3ms/step - loss: 0.6359 - accuracy: 0.7094 - val_loss: 0.5341 - val_accuracy: 0.8106\n",
            "Epoch 3/50\n",
            "200/200 [==============================] - 1s 3ms/step - loss: 0.5643 - accuracy: 0.7673 - val_loss: 0.4910 - val_accuracy: 0.8087\n",
            "Epoch 4/50\n",
            "200/200 [==============================] - 1s 3ms/step - loss: 0.5294 - accuracy: 0.7834 - val_loss: 0.4717 - val_accuracy: 0.8119\n",
            "Epoch 5/50\n",
            "200/200 [==============================] - 1s 3ms/step - loss: 0.5108 - accuracy: 0.7937 - val_loss: 0.4596 - val_accuracy: 0.8094\n",
            "Epoch 6/50\n",
            "200/200 [==============================] - 0s 2ms/step - loss: 0.4893 - accuracy: 0.7998 - val_loss: 0.4474 - val_accuracy: 0.8156\n",
            "Epoch 7/50\n",
            "200/200 [==============================] - 1s 3ms/step - loss: 0.4801 - accuracy: 0.7992 - val_loss: 0.4368 - val_accuracy: 0.8175\n",
            "Epoch 8/50\n",
            "200/200 [==============================] - 0s 2ms/step - loss: 0.4721 - accuracy: 0.8044 - val_loss: 0.4327 - val_accuracy: 0.8138\n",
            "Epoch 9/50\n",
            "200/200 [==============================] - 1s 3ms/step - loss: 0.4637 - accuracy: 0.8034 - val_loss: 0.4268 - val_accuracy: 0.8175\n",
            "Epoch 10/50\n",
            "200/200 [==============================] - 1s 2ms/step - loss: 0.4634 - accuracy: 0.8016 - val_loss: 0.4214 - val_accuracy: 0.8175\n",
            "Epoch 11/50\n",
            "200/200 [==============================] - 1s 3ms/step - loss: 0.4557 - accuracy: 0.8081 - val_loss: 0.4184 - val_accuracy: 0.8194\n",
            "Epoch 12/50\n",
            "200/200 [==============================] - 1s 3ms/step - loss: 0.4535 - accuracy: 0.8047 - val_loss: 0.4145 - val_accuracy: 0.8275\n",
            "Epoch 13/50\n",
            "200/200 [==============================] - 0s 2ms/step - loss: 0.4493 - accuracy: 0.8086 - val_loss: 0.4083 - val_accuracy: 0.8294\n",
            "Epoch 14/50\n",
            "200/200 [==============================] - 1s 4ms/step - loss: 0.4486 - accuracy: 0.8097 - val_loss: 0.4041 - val_accuracy: 0.8344\n",
            "Epoch 15/50\n",
            "200/200 [==============================] - 1s 4ms/step - loss: 0.4360 - accuracy: 0.8164 - val_loss: 0.4030 - val_accuracy: 0.8363\n",
            "Epoch 16/50\n",
            "200/200 [==============================] - 1s 4ms/step - loss: 0.4415 - accuracy: 0.8159 - val_loss: 0.3956 - val_accuracy: 0.8394\n",
            "Epoch 17/50\n",
            "200/200 [==============================] - 1s 5ms/step - loss: 0.4367 - accuracy: 0.8197 - val_loss: 0.3890 - val_accuracy: 0.8438\n",
            "Epoch 18/50\n",
            "200/200 [==============================] - 1s 4ms/step - loss: 0.4283 - accuracy: 0.8189 - val_loss: 0.3873 - val_accuracy: 0.8469\n",
            "Epoch 19/50\n",
            "200/200 [==============================] - 1s 3ms/step - loss: 0.4354 - accuracy: 0.8203 - val_loss: 0.3908 - val_accuracy: 0.8425\n",
            "Epoch 20/50\n",
            "200/200 [==============================] - 1s 3ms/step - loss: 0.4277 - accuracy: 0.8244 - val_loss: 0.3897 - val_accuracy: 0.8456\n",
            "Epoch 21/50\n",
            "200/200 [==============================] - 1s 3ms/step - loss: 0.4345 - accuracy: 0.8208 - val_loss: 0.3911 - val_accuracy: 0.8425\n",
            "Epoch 22/50\n",
            "200/200 [==============================] - 1s 2ms/step - loss: 0.4317 - accuracy: 0.8231 - val_loss: 0.3905 - val_accuracy: 0.8438\n",
            "Epoch 23/50\n",
            "200/200 [==============================] - 1s 3ms/step - loss: 0.4282 - accuracy: 0.8234 - val_loss: 0.3783 - val_accuracy: 0.8500\n",
            "Epoch 24/50\n",
            "200/200 [==============================] - 1s 3ms/step - loss: 0.4260 - accuracy: 0.8247 - val_loss: 0.3936 - val_accuracy: 0.8394\n",
            "Epoch 25/50\n",
            "200/200 [==============================] - 1s 3ms/step - loss: 0.4308 - accuracy: 0.8209 - val_loss: 0.3875 - val_accuracy: 0.8462\n",
            "Epoch 26/50\n",
            "200/200 [==============================] - 1s 3ms/step - loss: 0.4236 - accuracy: 0.8273 - val_loss: 0.3907 - val_accuracy: 0.8450\n",
            "Epoch 27/50\n",
            "200/200 [==============================] - 1s 3ms/step - loss: 0.4264 - accuracy: 0.8239 - val_loss: 0.3818 - val_accuracy: 0.8487\n",
            "Epoch 28/50\n",
            "200/200 [==============================] - 1s 3ms/step - loss: 0.4277 - accuracy: 0.8234 - val_loss: 0.3839 - val_accuracy: 0.8487\n"
          ]
        }
      ]
    },
    {
      "cell_type": "markdown",
      "source": [
        "# **Plot training history**"
      ],
      "metadata": {
        "id": "Tbr8_ft18eaV"
      }
    },
    {
      "cell_type": "code",
      "source": [
        "import matplotlib.pyplot as plt"
      ],
      "metadata": {
        "id": "WhrCWgB5ejga"
      },
      "execution_count": 21,
      "outputs": []
    },
    {
      "cell_type": "code",
      "source": [
        "plt.plot(history.history['accuracy'], label='accuracy')\n",
        "plt.plot(history.history['val_accuracy'], label='val_accuracy')\n",
        "plt.xlabel('Epoch')\n",
        "plt.ylabel('Accuracy')\n",
        "plt.ylim([0, 1])\n",
        "plt.legend(loc='lower right')\n",
        "plt.show()"
      ],
      "metadata": {
        "colab": {
          "base_uri": "https://localhost:8080/",
          "height": 455
        },
        "id": "4vGHSl_B8atG",
        "outputId": "6a911db5-36bb-4ed3-b50f-55e4c9b4011d"
      },
      "execution_count": 22,
      "outputs": [
        {
          "output_type": "display_data",
          "data": {
            "text/plain": [
              "<Figure size 640x480 with 1 Axes>"
            ],
            "image/png": "[encoded data removed]"
          },
          "metadata": {}
        }
      ]
    },
    {
      "cell_type": "markdown",
      "source": [
        "# **Evaluate the Model**"
      ],
      "metadata": {
        "id": "npxWYPqv9M1_"
      }
    },
    {
      "cell_type": "code",
      "source": [
        "loss_test, accuracy_test = model.evaluate(X_test, y_test)\n",
        "loss_train, accuracy_train = model.evaluate(X_train, y_train)\n",
        "loss_train, accuracy_train = model.evaluate(X_train, y_train)\n",
        "print(\"Test Loss:\", loss_test)\n",
        "print(\"Test Accuracy:\", accuracy_test)\n",
        "print(\"Train Loss:\", loss_train)\n",
        "print(\"Train Accuracy:\", accuracy_train)"
      ],
      "metadata": {
        "colab": {
          "base_uri": "https://localhost:8080/"
        },
        "id": "LciCOgPA9JGI",
        "outputId": "08f18d98-3ea2-4e99-8771-366841ede9b0"
      },
      "execution_count": 24,
      "outputs": [
        {
          "output_type": "stream",
          "name": "stdout",
          "text": [
            "63/63 [==============================] - 1s 5ms/step - loss: 0.3789 - accuracy: 0.8515\n",
            "250/250 [==============================] - 1s 5ms/step - loss: 0.3866 - accuracy: 0.8454\n",
            "250/250 [==============================] - 1s 3ms/step - loss: 0.3866 - accuracy: 0.8454\n",
            "Test Loss: 0.378884881734848\n",
            "Test Accuracy: 0.8514999747276306\n",
            "Train Loss: 0.38659241795539856\n",
            "Train Accuracy: 0.8453750014305115\n"
          ]
        }
      ]
    },
    {
      "cell_type": "markdown",
      "source": [
        "Interpretation of the Accuracy Graph:\n",
        "\n",
        "The above graph shows the training accuracy (accuracy) and validation accuracy (val_accuracy) over epochs.\n",
        "\n",
        "Initial Training Phase (First Few Epochs):\n",
        "\n",
        "Rapid Increase: The training accuracy quickly improves, indicating that the model is learning from the training data effectively in the early stages.\n",
        "Validation Accuracy: The validation accuracy starts high and remains relatively stable, indicating that the model is generalizing well from the beginning.\n",
        "Middle to Later Training Phase:\n",
        "\n",
        "Stabilization: Both training and validation accuracies stabilize around a similar value. This suggests that the model has reached a point where it is not improving significantly with additional epochs.\n",
        "\n",
        "Convergence: The fact that training and validation accuracies are closely aligned indicates that the model is not overfitting. If there were a significant gap between the two, it could indicate overfitting (training accuracy much higher than validation accuracy) or underfitting (both accuracies are low).\n",
        "\n",
        "Conclusion\n",
        "\n",
        "Good Model Fit: The graph suggests that the model is well-fitted. The accuracies are high and stable, with no significant divergence between training and validation performance.\n",
        "\n",
        "Potential Best Model: Given the close match between training and validation accuracies and the high values achieved, this could indeed be a well-performing model for your dataset.\n"
      ],
      "metadata": {
        "id": "_jnNrmDBBYUe"
      }
    },
    {
      "cell_type": "markdown",
      "source": [
        "# **Next Steps**\n",
        "\n",
        "Evaluate on Test Data: Ensure that the model performs well on a completely unseen test dataset to confirm its generalizability.\n",
        "\n",
        "Additional Metrics: Check other metrics like precision, recall, F1-score, and AUC to get a comprehensive understanding of the model performance."
      ],
      "metadata": {
        "id": "NKqZdzw7Blr7"
      }
    },
    {
      "cell_type": "code",
      "source": [
        "from sklearn.metrics import confusion_matrix, classification_report, roc_curve, auc"
      ],
      "metadata": {
        "id": "gQhcfnPKCBP-"
      },
      "execution_count": 26,
      "outputs": []
    },
    {
      "cell_type": "code",
      "source": [
        "# Confusion Matrix\n",
        "y_pred = (model.predict(X_test) > 0.5).astype(\"int32\")\n",
        "conf_matrix = confusion_matrix(y_test, y_pred)\n",
        "print(\"Confusion Matrix:\")\n",
        "print(conf_matrix)"
      ],
      "metadata": {
        "colab": {
          "base_uri": "https://localhost:8080/"
        },
        "id": "NxcbcJH-ATtj",
        "outputId": "6b70d035-1889-4db3-a443-ce530c39927a"
      },
      "execution_count": 27,
      "outputs": [
        {
          "output_type": "stream",
          "name": "stdout",
          "text": [
            "63/63 [==============================] - 0s 1ms/step\n",
            "Confusion Matrix:\n",
            "[[1589   18]\n",
            " [ 279  114]]\n"
          ]
        }
      ]
    },
    {
      "cell_type": "code",
      "source": [
        "# Classification Report\n",
        "class_report = classification_report(y_test, y_pred)\n",
        "print(\"Classification Report:\")\n",
        "print(class_report)"
      ],
      "metadata": {
        "colab": {
          "base_uri": "https://localhost:8080/"
        },
        "id": "sI1qXnBkAT0t",
        "outputId": "343529f3-c584-4c1c-b69c-142abe62d119"
      },
      "execution_count": 28,
      "outputs": [
        {
          "output_type": "stream",
          "name": "stdout",
          "text": [
            "Classification Report:\n",
            "              precision    recall  f1-score   support\n",
            "\n",
            "           0       0.85      0.99      0.91      1607\n",
            "           1       0.86      0.29      0.43       393\n",
            "\n",
            "    accuracy                           0.85      2000\n",
            "   macro avg       0.86      0.64      0.67      2000\n",
            "weighted avg       0.85      0.85      0.82      2000\n",
            "\n"
          ]
        }
      ]
    },
    {
      "cell_type": "code",
      "source": [
        "# ROC Curve and AUC\n",
        "y_pred_proba = model.predict(X_test)\n",
        "fpr, tpr, thresholds = roc_curve(y_test, y_pred_proba)\n",
        "roc_auc = auc(fpr, tpr)"
      ],
      "metadata": {
        "colab": {
          "base_uri": "https://localhost:8080/"
        },
        "id": "CRtw-zX1_som",
        "outputId": "83a8f324-135d-487a-e23e-a823805cb5d9"
      },
      "execution_count": 29,
      "outputs": [
        {
          "output_type": "stream",
          "name": "stdout",
          "text": [
            "63/63 [==============================] - 0s 1ms/step\n"
          ]
        }
      ]
    },
    {
      "cell_type": "code",
      "source": [
        "plt.figure()\n",
        "plt.plot(fpr, tpr, color='darkorange', lw=2, label='ROC curve (area = %0.2f)' % roc_auc)\n",
        "plt.plot([0, 1], [0, 1], color='navy', lw=2, linestyle='--')\n",
        "plt.xlim([0.0, 1.0])\n",
        "plt.ylim([0.0, 1.05])\n",
        "plt.xlabel('False Positive Rate')\n",
        "plt.ylabel('True Positive Rate')\n",
        "plt.title('Receiver Operating Characteristic')\n",
        "plt.legend(loc=\"lower right\")\n",
        "plt.show()"
      ],
      "metadata": {
        "colab": {
          "base_uri": "https://localhost:8080/",
          "height": 472
        },
        "id": "0NN9a9m3_srN",
        "outputId": "99163130-df27-496c-b2a7-3322cff42cc2"
      },
      "execution_count": 30,
      "outputs": [
        {
          "output_type": "display_data",
          "data": {
            "text/plain": [
              "<Figure size 640x480 with 1 Axes>"
            ],
            "image/png": "[encoded data removed]"
          },
          "metadata": {}
        }
      ]
    },
    {
      "cell_type": "markdown",
      "source": [
        "# **Prediction:**\n",
        "\n",
        "Prediction on a new data sample after transforming it using the StandardScaler(sc) about whether the  Customer will leave the bank in the future.\n",
        "\n",
        "The new data sample [[600, 'France', 'Female', 32, 3, 60000, 2, 1, 1, 50000]] includes features like the customer's credit score, age, balance, number of products, etc.\n"
      ],
      "metadata": {
        "id": "PXl1MLMMCsdN"
      }
    },
    {
      "cell_type": "code",
      "source": [
        "# Define the new data sample with pre-transformed values\n",
        "new_data = [[600, 'France', 'Female', 3, 60000, 2, 1, 1, 50000, 1]]\n",
        "\n",
        "# Apply the same transformations using ColumnTransformer\n",
        "new_data_encoded = ct.transform(new_data)\n",
        "\n",
        "# Make the prediction\n",
        "result = model.predict(new_data_encoded)\n",
        "print(result)\n",
        "if result > 0.5:\n",
        "    print(\"Customer will leave the bank in the future\")\n",
        "else:\n",
        "    print(\"Customer will not leave the bank in the future\")"
      ],
      "metadata": {
        "colab": {
          "base_uri": "https://localhost:8080/"
        },
        "id": "m2vvid4MPz6Y",
        "outputId": "486f051d-9f75-47bc-e7ae-deb847121581"
      },
      "execution_count": 36,
      "outputs": [
        {
          "output_type": "stream",
          "name": "stdout",
          "text": [
            "1/1 [==============================] - 0s 44ms/step\n",
            "[[0.10448035]]\n",
            "Customer will not leave the bank in the future\n"
          ]
        }
      ]
    },
    {
      "cell_type": "markdown",
      "source": [
        "# **INTERPRETATION of the Prediction:**\n",
        "\n",
        "The output [[0.10448035]] represents the probability that the customer will leave the bank. In this case, the probability is approximately 0.104, which is below the threshold of 0.5. Therefore, the model predicts that the customer will not leave the bank in the future.\n",
        "\n",
        "Detailed Interpretation:\n",
        "\n",
        "Prediction Value:\n",
        "\n",
        "The model outputs a probability of 0.10448035.\n",
        "This probability indicates the likelihood that the customer will leave the bank.\n",
        "\n",
        "Threshold Comparison:\n",
        "\n",
        "The threshold for deciding if the customer will leave is set at 0.5.\n",
        "Since 0.10448035 is less than 0.5, the model predicts False (i.e., the customer will not leave).\n",
        "\n",
        "Conclusion:\n",
        "\n",
        "Based on the model's prediction, the probability of the customer leaving the bank is approximately 10.4%.\n",
        "This low probability suggests that the customer is likely to stay with the bank."
      ],
      "metadata": {
        "id": "JNu8DfvhiGOA"
      }
    },
    {
      "cell_type": "code",
      "source": [
        "df.head(3)\n"
      ],
      "metadata": {
        "colab": {
          "base_uri": "https://localhost:8080/",
          "height": 143
        },
        "id": "gZgmIB1CiTYn",
        "outputId": "da8730b1-6a6c-4ee7-aec5-8032e58e8221"
      },
      "execution_count": 37,
      "outputs": [
        {
          "output_type": "execute_result",
          "data": {
            "text/plain": [
              "   CreditScore Geography  Gender  Age  Tenure    Balance  NumOfProducts  \\\n",
              "0          619    France  Female   42       2       0.00              1   \n",
              "1          608     Spain  Female   41       1   83807.86              1   \n",
              "2          502    France  Female   42       8  159660.80              3   \n",
              "\n",
              "   HasCrCard  IsActiveMember  EstimatedSalary  Exited  \n",
              "0          1               1        101348.88       1  \n",
              "1          0               1        112542.58       0  \n",
              "2          1               0        113931.57       1  "
            ],
            "text/html": [
              "\n",
              "  <div id=\"df-e60b3e27-37b0-4a5f-887e-2f564000019e\" class=\"colab-df-container\">\n",
              "    <div>\n",
              "<style scoped>\n",
              "    .dataframe tbody tr th:only-of-type {\n",
              "        vertical-align: middle;\n",
              "    }\n",
              "\n",
              "    .dataframe tbody tr th {\n",
              "        vertical-align: top;\n",
              "    }\n",
              "\n",
              "    .dataframe thead th {\n",
              "        text-align: right;\n",
              "    }\n",
              "</style>\n",
              "<table border=\"1\" class=\"dataframe\">\n",
              "  <thead>\n",
              "    <tr style=\"text-align: right;\">\n",
              "      <th></th>\n",
              "      <th>CreditScore</th>\n",
              "      <th>Geography</th>\n",
              "      <th>Gender</th>\n",
              "      <th>Age</th>\n",
              "      <th>Tenure</th>\n",
              "      <th>Balance</th>\n",
              "      <th>NumOfProducts</th>\n",
              "      <th>HasCrCard</th>\n",
              "      <th>IsActiveMember</th>\n",
              "      <th>EstimatedSalary</th>\n",
              "      <th>Exited</th>\n",
              "    </tr>\n",
              "  </thead>\n",
              "  <tbody>\n",
              "    <tr>\n",
              "      <th>0</th>\n",
              "      <td>619</td>\n",
              "      <td>France</td>\n",
              "      <td>Female</td>\n",
              "      <td>42</td>\n",
              "      <td>2</td>\n",
              "      <td>0.00</td>\n",
              "      <td>1</td>\n",
              "      <td>1</td>\n",
              "      <td>1</td>\n",
              "      <td>101348.88</td>\n",
              "      <td>1</td>\n",
              "    </tr>\n",
              "    <tr>\n",
              "      <th>1</th>\n",
              "      <td>608</td>\n",
              "      <td>Spain</td>\n",
              "      <td>Female</td>\n",
              "      <td>41</td>\n",
              "      <td>1</td>\n",
              "      <td>83807.86</td>\n",
              "      <td>1</td>\n",
              "      <td>0</td>\n",
              "      <td>1</td>\n",
              "      <td>112542.58</td>\n",
              "      <td>0</td>\n",
              "    </tr>\n",
              "    <tr>\n",
              "      <th>2</th>\n",
              "      <td>502</td>\n",
              "      <td>France</td>\n",
              "      <td>Female</td>\n",
              "      <td>42</td>\n",
              "      <td>8</td>\n",
              "      <td>159660.80</td>\n",
              "      <td>3</td>\n",
              "      <td>1</td>\n",
              "      <td>0</td>\n",
              "      <td>113931.57</td>\n",
              "      <td>1</td>\n",
              "    </tr>\n",
              "  </tbody>\n",
              "</table>\n",
              "</div>\n",
              "    <div class=\"colab-df-buttons\">\n",
              "\n",
              "  <div class=\"colab-df-container\">\n",
              "    <button class=\"colab-df-convert\" onclick=\"convertToInteractive('df-e60b3e27-37b0-4a5f-887e-2f564000019e')\"\n",
              "            title=\"Convert this dataframe to an interactive table.\"\n",
              "            style=\"display:none;\">\n",
              "\n",
              "  <svg xmlns=\"http://www.w3.org/2000/svg\" height=\"24px\" viewBox=\"0 -960 960 960\">\n",
              "    <path d=\"M120-120v-720h720v720H120Zm60-500h600v-160H180v160Zm220 220h160v-160H400v160Zm0 220h160v-160H400v160ZM180-400h160v-160H180v160Zm440 0h160v-160H620v160ZM180-180h160v-160H180v160Zm440 0h160v-160H620v160Z\"/>\n",
              "  </svg>\n",
              "    </button>\n",
              "\n",
              "  <style>\n",
              "    .colab-df-container {\n",
              "      display:flex;\n",
              "      gap: 12px;\n",
              "    }\n",
              "\n",
              "    .colab-df-convert {\n",
              "      background-color: #E8F0FE;\n",
              "      border: none;\n",
              "      border-radius: 50%;\n",
              "      cursor: pointer;\n",
              "      display: none;\n",
              "      fill: #1967D2;\n",
              "      height: 32px;\n",
              "      padding: 0 0 0 0;\n",
              "      width: 32px;\n",
              "    }\n",
              "\n",
              "    .colab-df-convert:hover {\n",
              "      background-color: #E2EBFA;\n",
              "      box-shadow: 0px 1px 2px rgba(60, 64, 67, 0.3), 0px 1px 3px 1px rgba(60, 64, 67, 0.15);\n",
              "      fill: #174EA6;\n",
              "    }\n",
              "\n",
              "    .colab-df-buttons div {\n",
              "      margin-bottom: 4px;\n",
              "    }\n",
              "\n",
              "    [theme=dark] .colab-df-convert {\n",
              "      background-color: #3B4455;\n",
              "      fill: #D2E3FC;\n",
              "    }\n",
              "\n",
              "    [theme=dark] .colab-df-convert:hover {\n",
              "      background-color: #434B5C;\n",
              "      box-shadow: 0px 1px 3px 1px rgba(0, 0, 0, 0.15);\n",
              "      filter: drop-shadow(0px 1px 2px rgba(0, 0, 0, 0.3));\n",
              "      fill: #FFFFFF;\n",
              "    }\n",
              "  </style>\n",
              "\n",
              "    <script>\n",
              "      const buttonEl =\n",
              "        document.querySelector('#df-e60b3e27-37b0-4a5f-887e-2f564000019e button.colab-df-convert');\n",
              "      buttonEl.style.display =\n",
              "        google.colab.kernel.accessAllowed ? 'block' : 'none';\n",
              "\n",
              "      async function convertToInteractive(key) {\n",
              "        const element = document.querySelector('#df-e60b3e27-37b0-4a5f-887e-2f564000019e');\n",
              "        const dataTable =\n",
              "          await google.colab.kernel.invokeFunction('convertToInteractive',\n",
              "                                                    [key], {});\n",
              "        if (!dataTable) return;\n",
              "\n",
              "        const docLinkHtml = 'Like what you see? Visit the ' +\n",
              "          '<a target=\"_blank\" href=https://colab.research.google.com/notebooks/data_table.ipynb>data table notebook</a>'\n",
              "          + ' to learn more about interactive tables.';\n",
              "        element.innerHTML = '';\n",
              "        dataTable['output_type'] = 'display_data';\n",
              "        await google.colab.output.renderOutput(dataTable, element);\n",
              "        const docLink = document.createElement('div');\n",
              "        docLink.innerHTML = docLinkHtml;\n",
              "        element.appendChild(docLink);\n",
              "      }\n",
              "    </script>\n",
              "  </div>\n",
              "\n",
              "\n",
              "<div id=\"df-b8f58695-c041-4e1b-a843-fc578e5a08c4\">\n",
              "  <button class=\"colab-df-quickchart\" onclick=\"quickchart('df-b8f58695-c041-4e1b-a843-fc578e5a08c4')\"\n",
              "            title=\"Suggest charts\"\n",
              "            style=\"display:none;\">\n",
              "\n",
              "<svg xmlns=\"http://www.w3.org/2000/svg\" height=\"24px\"viewBox=\"0 0 24 24\"\n",
              "     width=\"24px\">\n",
              "    <g>\n",
              "        <path d=\"M19 3H5c-1.1 0-2 .9-2 2v14c0 1.1.9 2 2 2h14c1.1 0 2-.9 2-2V5c0-1.1-.9-2-2-2zM9 17H7v-7h2v7zm4 0h-2V7h2v10zm4 0h-2v-4h2v4z\"/>\n",
              "    </g>\n",
              "</svg>\n",
              "  </button>\n",
              "\n",
              "<style>\n",
              "  .colab-df-quickchart {\n",
              "      --bg-color: #E8F0FE;\n",
              "      --fill-color: #1967D2;\n",
              "      --hover-bg-color: #E2EBFA;\n",
              "      --hover-fill-color: #174EA6;\n",
              "      --disabled-fill-color: #AAA;\n",
              "      --disabled-bg-color: #DDD;\n",
              "  }\n",
              "\n",
              "  [theme=dark] .colab-df-quickchart {\n",
              "      --bg-color: #3B4455;\n",
              "      --fill-color: #D2E3FC;\n",
              "      --hover-bg-color: #434B5C;\n",
              "      --hover-fill-color: #FFFFFF;\n",
              "      --disabled-bg-color: #3B4455;\n",
              "      --disabled-fill-color: #666;\n",
              "  }\n",
              "\n",
              "  .colab-df-quickchart {\n",
              "    background-color: var(--bg-color);\n",
              "    border: none;\n",
              "    border-radius: 50%;\n",
              "    cursor: pointer;\n",
              "    display: none;\n",
              "    fill: var(--fill-color);\n",
              "    height: 32px;\n",
              "    padding: 0;\n",
              "    width: 32px;\n",
              "  }\n",
              "\n",
              "  .colab-df-quickchart:hover {\n",
              "    background-color: var(--hover-bg-color);\n",
              "    box-shadow: 0 1px 2px rgba(60, 64, 67, 0.3), 0 1px 3px 1px rgba(60, 64, 67, 0.15);\n",
              "    fill: var(--button-hover-fill-color);\n",
              "  }\n",
              "\n",
              "  .colab-df-quickchart-complete:disabled,\n",
              "  .colab-df-quickchart-complete:disabled:hover {\n",
              "    background-color: var(--disabled-bg-color);\n",
              "    fill: var(--disabled-fill-color);\n",
              "    box-shadow: none;\n",
              "  }\n",
              "\n",
              "  .colab-df-spinner {\n",
              "    border: 2px solid var(--fill-color);\n",
              "    border-color: transparent;\n",
              "    border-bottom-color: var(--fill-color);\n",
              "    animation:\n",
              "      spin 1s steps(1) infinite;\n",
              "  }\n",
              "\n",
              "  @keyframes spin {\n",
              "    0% {\n",
              "      border-color: transparent;\n",
              "      border-bottom-color: var(--fill-color);\n",
              "      border-left-color: var(--fill-color);\n",
              "    }\n",
              "    20% {\n",
              "      border-color: transparent;\n",
              "      border-left-color: var(--fill-color);\n",
              "      border-top-color: var(--fill-color);\n",
              "    }\n",
              "    30% {\n",
              "      border-color: transparent;\n",
              "      border-left-color: var(--fill-color);\n",
              "      border-top-color: var(--fill-color);\n",
              "      border-right-color: var(--fill-color);\n",
              "    }\n",
              "    40% {\n",
              "      border-color: transparent;\n",
              "      border-right-color: var(--fill-color);\n",
              "      border-top-color: var(--fill-color);\n",
              "    }\n",
              "    60% {\n",
              "      border-color: transparent;\n",
              "      border-right-color: var(--fill-color);\n",
              "    }\n",
              "    80% {\n",
              "      border-color: transparent;\n",
              "      border-right-color: var(--fill-color);\n",
              "      border-bottom-color: var(--fill-color);\n",
              "    }\n",
              "    90% {\n",
              "      border-color: transparent;\n",
              "      border-bottom-color: var(--fill-color);\n",
              "    }\n",
              "  }\n",
              "</style>\n",
              "\n",
              "  <script>\n",
              "    async function quickchart(key) {\n",
              "      const quickchartButtonEl =\n",
              "        document.querySelector('#' + key + ' button');\n",
              "      quickchartButtonEl.disabled = true;  // To prevent multiple clicks.\n",
              "      quickchartButtonEl.classList.add('colab-df-spinner');\n",
              "      try {\n",
              "        const charts = await google.colab.kernel.invokeFunction(\n",
              "            'suggestCharts', [key], {});\n",
              "      } catch (error) {\n",
              "        console.error('Error during call to suggestCharts:', error);\n",
              "      }\n",
              "      quickchartButtonEl.classList.remove('colab-df-spinner');\n",
              "      quickchartButtonEl.classList.add('colab-df-quickchart-complete');\n",
              "    }\n",
              "    (() => {\n",
              "      let quickchartButtonEl =\n",
              "        document.querySelector('#df-b8f58695-c041-4e1b-a843-fc578e5a08c4 button');\n",
              "      quickchartButtonEl.style.display =\n",
              "        google.colab.kernel.accessAllowed ? 'block' : 'none';\n",
              "    })();\n",
              "  </script>\n",
              "</div>\n",
              "\n",
              "    </div>\n",
              "  </div>\n"
            ],
            "application/vnd.google.colaboratory.intrinsic+json": {
              "type": "dataframe",
              "variable_name": "df",
              "summary": "{\n  \"name\": \"df\",\n  \"rows\": 10000,\n  \"fields\": [\n    {\n      \"column\": \"CreditScore\",\n      \"properties\": {\n        \"dtype\": \"number\",\n        \"std\": 96,\n        \"min\": 350,\n        \"max\": 850,\n        \"num_unique_values\": 460,\n        \"samples\": [\n          754,\n          533,\n          744\n        ],\n        \"semantic_type\": \"\",\n        \"description\": \"\"\n      }\n    },\n    {\n      \"column\": \"Geography\",\n      \"properties\": {\n        \"dtype\": \"category\",\n        \"num_unique_values\": 3,\n        \"samples\": [\n          \"France\",\n          \"Spain\",\n          \"Germany\"\n        ],\n        \"semantic_type\": \"\",\n        \"description\": \"\"\n      }\n    },\n    {\n      \"column\": \"Gender\",\n      \"properties\": {\n        \"dtype\": \"category\",\n        \"num_unique_values\": 2,\n        \"samples\": [\n          \"Male\",\n          \"Female\"\n        ],\n        \"semantic_type\": \"\",\n        \"description\": \"\"\n      }\n    },\n    {\n      \"column\": \"Age\",\n      \"properties\": {\n        \"dtype\": \"number\",\n        \"std\": 10,\n        \"min\": 18,\n        \"max\": 92,\n        \"num_unique_values\": 70,\n        \"samples\": [\n          61,\n          42\n        ],\n        \"semantic_type\": \"\",\n        \"description\": \"\"\n      }\n    },\n    {\n      \"column\": \"Tenure\",\n      \"properties\": {\n        \"dtype\": \"number\",\n        \"std\": 2,\n        \"min\": 0,\n        \"max\": 10,\n        \"num_unique_values\": 11,\n        \"samples\": [\n          6,\n          2\n        ],\n        \"semantic_type\": \"\",\n        \"description\": \"\"\n      }\n    },\n    {\n      \"column\": \"Balance\",\n      \"properties\": {\n        \"dtype\": \"number\",\n        \"std\": 62397.405202385955,\n        \"min\": 0.0,\n        \"max\": 250898.09,\n        \"num_unique_values\": 6382,\n        \"samples\": [\n          117707.18,\n          133050.97\n        ],\n        \"semantic_type\": \"\",\n        \"description\": \"\"\n      }\n    },\n    {\n      \"column\": \"NumOfProducts\",\n      \"properties\": {\n        \"dtype\": \"number\",\n        \"std\": 0,\n        \"min\": 1,\n        \"max\": 4,\n        \"num_unique_values\": 4,\n        \"samples\": [\n          3,\n          4\n        ],\n        \"semantic_type\": \"\",\n        \"description\": \"\"\n      }\n    },\n    {\n      \"column\": \"HasCrCard\",\n      \"properties\": {\n        \"dtype\": \"number\",\n        \"std\": 0,\n        \"min\": 0,\n        \"max\": 1,\n        \"num_unique_values\": 2,\n        \"samples\": [\n          0,\n          1\n        ],\n        \"semantic_type\": \"\",\n        \"description\": \"\"\n      }\n    },\n    {\n      \"column\": \"IsActiveMember\",\n      \"properties\": {\n        \"dtype\": \"number\",\n        \"std\": 0,\n        \"min\": 0,\n        \"max\": 1,\n        \"num_unique_values\": 2,\n        \"samples\": [\n          0,\n          1\n        ],\n        \"semantic_type\": \"\",\n        \"description\": \"\"\n      }\n    },\n    {\n      \"column\": \"EstimatedSalary\",\n      \"properties\": {\n        \"dtype\": \"number\",\n        \"std\": 57510.49281769816,\n        \"min\": 11.58,\n        \"max\": 199992.48,\n        \"num_unique_values\": 9999,\n        \"samples\": [\n          100809.99,\n          95273.73\n        ],\n        \"semantic_type\": \"\",\n        \"description\": \"\"\n      }\n    },\n    {\n      \"column\": \"Exited\",\n      \"properties\": {\n        \"dtype\": \"number\",\n        \"std\": 0,\n        \"min\": 0,\n        \"max\": 1,\n        \"num_unique_values\": 2,\n        \"samples\": [\n          0,\n          1\n        ],\n        \"semantic_type\": \"\",\n        \"description\": \"\"\n      }\n    }\n  ]\n}"
            }
          },
          "metadata": {},
          "execution_count": 37
        }
      ]
    }
  ]
}